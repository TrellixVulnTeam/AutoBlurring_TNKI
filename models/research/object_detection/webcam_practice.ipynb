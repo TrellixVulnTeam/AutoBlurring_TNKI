{
 "cells": [
  {
   "cell_type": "markdown",
   "metadata": {},
   "source": [
    "# Imports"
   ]
  },
  {
   "cell_type": "code",
   "execution_count": 1,
   "metadata": {},
   "outputs": [],
   "source": [
    "# 필요한 모듈 임포트\n",
    "import numpy as np\n",
    "import os\n",
    "import six.moves.urllib as urllib\n",
    "import sys\n",
    "import tarfile\n",
    "import tensorflow as tf\n",
    "import zipfile\n",
    "\n",
    "from collections import defaultdict\n",
    "from io import StringIO\n",
    "from matplotlib import pyplot as plt\n",
    "from PIL import Image\n",
    "from PIL import ImageGrab\n",
    "\n",
    "# 웹캠\n",
    "import cv2\n",
    "cap=cv2.VideoCapture(0)"
   ]
  },
  {
   "cell_type": "markdown",
   "metadata": {},
   "source": [
    "## Env setup"
   ]
  },
  {
   "cell_type": "code",
   "execution_count": 2,
   "metadata": {},
   "outputs": [],
   "source": [
    "# 저장할 path 설정\n",
    "sys.path.append(\"..\")\n",
    "\n",
    "from utils import label_map_util\n",
    "from utils import visualization_utils as vis_util"
   ]
  },
  {
   "cell_type": "markdown",
   "metadata": {},
   "source": [
    "# Model preparation "
   ]
  },
  {
   "cell_type": "code",
   "execution_count": 3,
   "metadata": {},
   "outputs": [],
   "source": [
    "# 다운로드할 모델\n",
    "MODEL_NAME = 'ssd_mobilenet_v1_coco_2017_11_17'\n",
    "MODEL_FILE = MODEL_NAME + '.tar.gz'\n",
    "DOWNLOAD_BASE = 'http://download.tensorflow.org/models/object_detection/'\n",
    "\n",
    "# webcam->image: Object Detection 할 때 사용\n",
    "# pb: 모델 구조와 가중치 값이 합쳐진 파일(binary). 학습 시에 그렸던 그래프 구조가 정의되어 있음. 용량 작음\n",
    "# ckpt: 학습된 모델의 구조를 제외한 변수들을 담고 있는 파일->재학습 가능. 모델의 가중치만 담고있는 파일\n",
    "PATH_TO_CKPT = MODEL_NAME + '/frozen_inference_graph.pb'\n",
    "\n",
    "# 이미지에 라벨 붙이기\n",
    "# pbtxt: text파일. 사람이 읽을 수 있는 형식->디버깅/편집에 적합. 용량 큼\n",
    "PATH_TO_LABELS = os.path.join('data', 'mscoco_label_map.pbtxt')\n",
    "\n",
    "# 클래스 개수\n",
    "NUM_CLASSES = 90"
   ]
  },
  {
   "cell_type": "markdown",
   "metadata": {},
   "source": [
    "## Download Model"
   ]
  },
  {
   "cell_type": "code",
   "execution_count": 4,
   "metadata": {},
   "outputs": [],
   "source": [
    "#인터넷 리소스 다운로드\n",
    "opener = urllib.request.URLopener()\n",
    "opener.retrieve(DOWNLOAD_BASE + MODEL_FILE, MODEL_FILE)\n",
    "tar_file = tarfile.open(MODEL_FILE)\n",
    "for file in tar_file.getmembers():\n",
    "  file_name = os.path.basename(file.name)\n",
    "  if 'frozen_inference_graph.pb' in file_name:\n",
    "    tar_file.extract(file, os.getcwd())"
   ]
  },
  {
   "cell_type": "markdown",
   "metadata": {},
   "source": [
    "## Load a (frozen) Tensorflow model into memory."
   ]
  },
  {
   "cell_type": "code",
   "execution_count": 5,
   "metadata": {},
   "outputs": [],
   "source": [
    "detection_graph = tf.Graph()\n",
    "with detection_graph.as_default(): #텐서플로우 계산은 텐서플로우 그래프로 표현됨\n",
    "  od_graph_def = tf.compat.v1.GraphDef() #tf 2.3.0\n",
    "  with tf.compat.v2.io.gfile.GFile(PATH_TO_CKPT, 'rb') as fid:# protobuf 형식으로 정의된 내용을 string(그래프에 대한 정보)으로 파싱\n",
    "    serialized_graph = fid.read()\n",
    "    od_graph_def.ParseFromString(serialized_graph)\n",
    "    tf.import_graph_def(od_graph_def, name='')"
   ]
  },
  {
   "cell_type": "markdown",
   "metadata": {},
   "source": [
    "## Blurring faces"
   ]
  },
  {
   "cell_type": "code",
   "execution_count": 6,
   "metadata": {},
   "outputs": [],
   "source": [
    "import numpy as np\n",
    "import cv2\n",
    "import cvlib as cv\n",
    "import time\n",
    "\n",
    "def anonymize_face_simple(image, factor=3.0):\n",
    "    # 들어온 이미지 사이즈에 맞게 커널 사이즈 지정\n",
    "    (h, w) = image.shape[:2]\n",
    "    kW = int(w / factor)\n",
    "    kH = int(h / factor)\n",
    "\n",
    "    if kW % 2 == 0:\n",
    "        kW -= 1\n",
    "\n",
    "    if kH % 2 == 0:\n",
    "        kH -= 1\n",
    "        \n",
    "    # 가우시안 블러링 수행\n",
    "    return cv2.GaussianBlur(image, (kW, kH), 0)"
   ]
  },
  {
   "cell_type": "code",
   "execution_count": 7,
   "metadata": {},
   "outputs": [],
   "source": [
    "\n",
    "\n",
    "def blurring(frame):\n",
    "    # 얼굴 인식\n",
    "    faces, confidences = cv.detect_face(frame)\n",
    "    \n",
    "    for face in faces:\n",
    "        (startX,startY) = face[0],face[1]\n",
    "        (endX,endY) = face[2],face[3]\n",
    "        \n",
    "        # 얼굴만 추출\n",
    "        face_crop = np.copy(frame[startY:endY,startX:endX])\n",
    "        \n",
    "        #cv2.imshow(\"face_crop\", face_crop)\n",
    "        \n",
    "        face = anonymize_face_simple(face_crop, factor=3.0)\n",
    "        \n",
    "        # cv2.imshow(\"face\", face)\n",
    "        \n",
    "        frame[startY:endY, startX:endX] = face\n",
    "    \n",
    "    return frame\n",
    "\n",
    "    "
   ]
  },
  {
   "cell_type": "markdown",
   "metadata": {},
   "source": [
    "## Loading label map\n",
    "Label maps map indices to category names, so that when our convolution network predicts `5`, we know that this corresponds to `airplane`.  Here we use internal utility functions, but anything that returns a dictionary mapping integers to appropriate string labels would be fine"
   ]
  },
  {
   "cell_type": "code",
   "execution_count": 8,
   "metadata": {},
   "outputs": [],
   "source": [
    "label_map = label_map_util.load_labelmap(PATH_TO_LABELS)\n",
    "categories = label_map_util.convert_label_map_to_categories(label_map, max_num_classes=NUM_CLASSES, use_display_name=True)\n",
    "category_index = label_map_util.create_category_index(categories)"
   ]
  },
  {
   "cell_type": "code",
   "execution_count": 9,
   "metadata": {},
   "outputs": [
    {
     "data": {
      "text/plain": [
       "'\\nflag=True\\n#cap = cv2.VideoCapture(\"video1.mp4\")\\nimport matplotlib.pyplot as plt\\n\\nwith detection_graph.as_default():\\n  with tf.compat.v1.Session(graph=detection_graph) as sess:\\n    \\n    while (True):\\n        \\n        \\n        #ret, image_np=cap.read() \\n         # 차원 확장: 이미지가 shape가질 것이라 기대\\n        image_np_expanded = np.expand_dims(image_np, axis=0)\\n        # 입력/출력 텐서 정의\\n        image_tensor = detection_graph.get_tensor_by_name(\\'image_tensor:0\\')\\n        # 감지한 object box형성\\n        # by regression\\n        # (x1,y1,x2,y2)\\n        # grab_screen?\\n        boxes = detection_graph.get_tensor_by_name(\\'detection_boxes:0\\')\\n        # 확률 나타냄(label과 함께 표시)\\n        scores = detection_graph.get_tensor_by_name(\\'detection_scores:0\\')\\n        classes = detection_graph.get_tensor_by_name(\\'detection_classes:0\\')\\n        num_detections = detection_graph.get_tensor_by_name(\\'num_detections:0\\')\\n       \\n         \\n          # Actual detection.\\n        (boxes, scores, classes, num) = sess.run(\\n              [boxes, scores, classes, num_detections],\\n              feed_dict={image_tensor: image_np_expanded})\\n          # Visualization of the results of a detection.\\n        coords=vis_util.visualize_boxes_and_labels_on_image_array(\\n              image_np,\\n              np.squeeze(boxes),\\n              np.squeeze(classes).astype(np.int32),\\n              np.squeeze(scores),\\n              category_index,\\n              use_normalized_coordinates=True,\\n              line_thickness=8)\\n        \\n\\n                \\n                #img=ImageGrab.grab((x1,y1,x2,y2))\\n                #image.show()\\n            #print(coords[0][0])\\n       # print(np.shape(coords))\\n        #print(coords[0][1])\\n        #print(coords)\\n  \\n        \\n        #cv2.imshow(\\'live_detection\\',cv2.resize(image_np,(800,600)))\\n        plt.show(image_np)\\n        if coords:\\n            for i in range(0,len(coords)):\\n                if coords[i][0]==\"person\":\\n                    x1=int(coords[i][1]*800)\\n                    y1=int(coords[i][2]*600)\\n                    x2=int(coords[i][3]*800)\\n                    y2=int(coords[i][4]*600)\\n                    \\n                    \\n                    #print(x1,x2,y1,y2)\\n                    person_crop = np.copy(image_np[y1:y2,x1:x2])\\n                    #after_blurring=blurring(person_crop)\\n                    #frame[y1:y2, x1:x2] = after_blurring\\n                    #cv2.imshow(\\'person\\',person_crop)\\n                    plt.show(person_crop)\\n                \\n            if cv2.waitKey(1)  &0xFF==ord(\\'q\\'):\\n                cv2.destroyAllWindows()\\n                break\\n\\n        '"
      ]
     },
     "execution_count": 9,
     "metadata": {},
     "output_type": "execute_result"
    }
   ],
   "source": [
    "\n",
    "\"\"\"\n",
    "flag=True\n",
    "#cap = cv2.VideoCapture(\"video1.mp4\")\n",
    "import matplotlib.pyplot as plt\n",
    "\n",
    "with detection_graph.as_default():\n",
    "  with tf.compat.v1.Session(graph=detection_graph) as sess:\n",
    "    \n",
    "    while (True):\n",
    "        \n",
    "        \n",
    "        #ret, image_np=cap.read() \n",
    "         # 차원 확장: 이미지가 shape가질 것이라 기대\n",
    "        image_np_expanded = np.expand_dims(image_np, axis=0)\n",
    "        # 입력/출력 텐서 정의\n",
    "        image_tensor = detection_graph.get_tensor_by_name('image_tensor:0')\n",
    "        # 감지한 object box형성\n",
    "        # by regression\n",
    "        # (x1,y1,x2,y2)\n",
    "        # grab_screen?\n",
    "        boxes = detection_graph.get_tensor_by_name('detection_boxes:0')\n",
    "        # 확률 나타냄(label과 함께 표시)\n",
    "        scores = detection_graph.get_tensor_by_name('detection_scores:0')\n",
    "        classes = detection_graph.get_tensor_by_name('detection_classes:0')\n",
    "        num_detections = detection_graph.get_tensor_by_name('num_detections:0')\n",
    "       \n",
    "         \n",
    "          # Actual detection.\n",
    "        (boxes, scores, classes, num) = sess.run(\n",
    "              [boxes, scores, classes, num_detections],\n",
    "              feed_dict={image_tensor: image_np_expanded})\n",
    "          # Visualization of the results of a detection.\n",
    "        coords=vis_util.visualize_boxes_and_labels_on_image_array(\n",
    "              image_np,\n",
    "              np.squeeze(boxes),\n",
    "              np.squeeze(classes).astype(np.int32),\n",
    "              np.squeeze(scores),\n",
    "              category_index,\n",
    "              use_normalized_coordinates=True,\n",
    "              line_thickness=8)\n",
    "        \n",
    "\n",
    "                \n",
    "                #img=ImageGrab.grab((x1,y1,x2,y2))\n",
    "                #image.show()\n",
    "            #print(coords[0][0])\n",
    "       # print(np.shape(coords))\n",
    "        #print(coords[0][1])\n",
    "        #print(coords)\n",
    "  \n",
    "        \n",
    "        #cv2.imshow('live_detection',cv2.resize(image_np,(800,600)))\n",
    "        plt.show(image_np)\n",
    "        if coords:\n",
    "            for i in range(0,len(coords)):\n",
    "                if coords[i][0]==\"person\":\n",
    "                    x1=int(coords[i][1]*800)\n",
    "                    y1=int(coords[i][2]*600)\n",
    "                    x2=int(coords[i][3]*800)\n",
    "                    y2=int(coords[i][4]*600)\n",
    "                    \n",
    "                    \n",
    "                    #print(x1,x2,y1,y2)\n",
    "                    person_crop = np.copy(image_np[y1:y2,x1:x2])\n",
    "                    #after_blurring=blurring(person_crop)\n",
    "                    #frame[y1:y2, x1:x2] = after_blurring\n",
    "                    #cv2.imshow('person',person_crop)\n",
    "                    plt.show(person_crop)\n",
    "                \n",
    "            if cv2.waitKey(1)  &0xFF==ord('q'):\n",
    "                cv2.destroyAllWindows()\n",
    "                break\n",
    "\n",
    "        \"\"\""
   ]
  },
  {
   "cell_type": "code",
   "execution_count": 17,
   "metadata": {},
   "outputs": [
    {
     "ename": "error",
     "evalue": "OpenCV(4.4.0) /tmp/pip-req-build-b_zf9wbm/opencv/modules/imgproc/src/smooth.dispatch.cpp:620: error: (-215:Assertion failed) !_src.empty() in function 'GaussianBlur'\n",
     "output_type": "error",
     "traceback": [
      "\u001b[0;31m---------------------------------------------------------------------------\u001b[0m",
      "\u001b[0;31merror\u001b[0m                                     Traceback (most recent call last)",
      "\u001b[0;32m<ipython-input-17-80329fa4066e>\u001b[0m in \u001b[0;36m<module>\u001b[0;34m\u001b[0m\n\u001b[1;32m     60\u001b[0m                     \u001b[0;31m#print(x1,x2,y1,y2)\u001b[0m\u001b[0;34m\u001b[0m\u001b[0;34m\u001b[0m\u001b[0;34m\u001b[0m\u001b[0m\n\u001b[1;32m     61\u001b[0m                     \u001b[0mperson_crop\u001b[0m \u001b[0;34m=\u001b[0m \u001b[0mnp\u001b[0m\u001b[0;34m.\u001b[0m\u001b[0mcopy\u001b[0m\u001b[0;34m(\u001b[0m\u001b[0mimage_np\u001b[0m\u001b[0;34m[\u001b[0m\u001b[0my1\u001b[0m\u001b[0;34m:\u001b[0m\u001b[0my2\u001b[0m\u001b[0;34m,\u001b[0m\u001b[0mx1\u001b[0m\u001b[0;34m:\u001b[0m\u001b[0mx2\u001b[0m\u001b[0;34m]\u001b[0m\u001b[0;34m)\u001b[0m\u001b[0;34m\u001b[0m\u001b[0;34m\u001b[0m\u001b[0m\n\u001b[0;32m---> 62\u001b[0;31m                     \u001b[0mafter_blurring\u001b[0m\u001b[0;34m=\u001b[0m\u001b[0mblurring\u001b[0m\u001b[0;34m(\u001b[0m\u001b[0mperson_crop\u001b[0m\u001b[0;34m)\u001b[0m\u001b[0;34m\u001b[0m\u001b[0;34m\u001b[0m\u001b[0m\n\u001b[0m\u001b[1;32m     63\u001b[0m                     \u001b[0mimage_np\u001b[0m\u001b[0;34m[\u001b[0m\u001b[0my1\u001b[0m\u001b[0;34m:\u001b[0m\u001b[0my2\u001b[0m\u001b[0;34m,\u001b[0m \u001b[0mx1\u001b[0m\u001b[0;34m:\u001b[0m\u001b[0mx2\u001b[0m\u001b[0;34m]\u001b[0m \u001b[0;34m=\u001b[0m \u001b[0mafter_blurring\u001b[0m\u001b[0;34m\u001b[0m\u001b[0;34m\u001b[0m\u001b[0m\n\u001b[1;32m     64\u001b[0m                     \u001b[0mcv2\u001b[0m\u001b[0;34m.\u001b[0m\u001b[0mimshow\u001b[0m\u001b[0;34m(\u001b[0m\u001b[0;34m'person'\u001b[0m\u001b[0;34m,\u001b[0m\u001b[0mperson_crop\u001b[0m\u001b[0;34m)\u001b[0m\u001b[0;34m\u001b[0m\u001b[0;34m\u001b[0m\u001b[0m\n",
      "\u001b[0;32m<ipython-input-7-b7df494b24d5>\u001b[0m in \u001b[0;36mblurring\u001b[0;34m(frame)\u001b[0m\n\u001b[1;32m     12\u001b[0m         \u001b[0;31m#cv2.imshow(\"face_crop\", face_crop)\u001b[0m\u001b[0;34m\u001b[0m\u001b[0;34m\u001b[0m\u001b[0;34m\u001b[0m\u001b[0m\n\u001b[1;32m     13\u001b[0m \u001b[0;34m\u001b[0m\u001b[0m\n\u001b[0;32m---> 14\u001b[0;31m         \u001b[0mface\u001b[0m \u001b[0;34m=\u001b[0m \u001b[0manonymize_face_simple\u001b[0m\u001b[0;34m(\u001b[0m\u001b[0mface_crop\u001b[0m\u001b[0;34m,\u001b[0m \u001b[0mfactor\u001b[0m\u001b[0;34m=\u001b[0m\u001b[0;36m3.0\u001b[0m\u001b[0;34m)\u001b[0m\u001b[0;34m\u001b[0m\u001b[0;34m\u001b[0m\u001b[0m\n\u001b[0m\u001b[1;32m     15\u001b[0m \u001b[0;34m\u001b[0m\u001b[0m\n\u001b[1;32m     16\u001b[0m         \u001b[0;31m# cv2.imshow(\"face\", face)\u001b[0m\u001b[0;34m\u001b[0m\u001b[0;34m\u001b[0m\u001b[0;34m\u001b[0m\u001b[0m\n",
      "\u001b[0;32m<ipython-input-6-3313000dedef>\u001b[0m in \u001b[0;36manonymize_face_simple\u001b[0;34m(image, factor)\u001b[0m\n\u001b[1;32m     17\u001b[0m \u001b[0;34m\u001b[0m\u001b[0m\n\u001b[1;32m     18\u001b[0m     \u001b[0;31m# 가우시안 블러링 수행\u001b[0m\u001b[0;34m\u001b[0m\u001b[0;34m\u001b[0m\u001b[0;34m\u001b[0m\u001b[0m\n\u001b[0;32m---> 19\u001b[0;31m     \u001b[0;32mreturn\u001b[0m \u001b[0mcv2\u001b[0m\u001b[0;34m.\u001b[0m\u001b[0mGaussianBlur\u001b[0m\u001b[0;34m(\u001b[0m\u001b[0mimage\u001b[0m\u001b[0;34m,\u001b[0m \u001b[0;34m(\u001b[0m\u001b[0mkW\u001b[0m\u001b[0;34m,\u001b[0m \u001b[0mkH\u001b[0m\u001b[0;34m)\u001b[0m\u001b[0;34m,\u001b[0m \u001b[0;36m0\u001b[0m\u001b[0;34m)\u001b[0m\u001b[0;34m\u001b[0m\u001b[0;34m\u001b[0m\u001b[0m\n\u001b[0m",
      "\u001b[0;31merror\u001b[0m: OpenCV(4.4.0) /tmp/pip-req-build-b_zf9wbm/opencv/modules/imgproc/src/smooth.dispatch.cpp:620: error: (-215:Assertion failed) !_src.empty() in function 'GaussianBlur'\n"
     ]
    }
   ],
   "source": [
    "flag=False\n",
    "cap = cv2.VideoCapture(\"video1.mp4\")\n",
    "\n",
    "width=cap.get(cv2.CAP_PROP_FRAME_WIDTH)\n",
    "height=cap.get(cv2.CAP_PROP_FRAME_HEIGHT)\n",
    "\n",
    "with detection_graph.as_default():\n",
    "  with tf.compat.v1.Session(graph=detection_graph) as sess:\n",
    "    while (True):\n",
    "\n",
    "        ret, image_np=cap.read() \n",
    "         # 차원 확장: 이미지가 shape가질 것이라 기대\n",
    "        image_np_expanded = np.expand_dims(image_np, axis=0)\n",
    "        # 입력/출력 텐서 정의\n",
    "        image_tensor = detection_graph.get_tensor_by_name('image_tensor:0')\n",
    "        # 감지한 object box형성\n",
    "        # by regression\n",
    "        # (x1,y1,x2,y2)\n",
    "        # grab_screen?\n",
    "        boxes = detection_graph.get_tensor_by_name('detection_boxes:0')\n",
    "        # 확률 나타냄(label과 함께 표시)\n",
    "        scores = detection_graph.get_tensor_by_name('detection_scores:0')\n",
    "        classes = detection_graph.get_tensor_by_name('detection_classes:0')\n",
    "        num_detections = detection_graph.get_tensor_by_name('num_detections:0')\n",
    "       \n",
    "         \n",
    "          # Actual detection.\n",
    "        (boxes, scores, classes, num) = sess.run(\n",
    "              [boxes, scores, classes, num_detections],\n",
    "              feed_dict={image_tensor: image_np_expanded})\n",
    "          # Visualization of the results of a detection.\n",
    "        coords=vis_util.visualize_boxes_and_labels_on_image_array(\n",
    "              image_np,\n",
    "              np.squeeze(boxes),\n",
    "              np.squeeze(classes).astype(np.int32),\n",
    "              np.squeeze(scores),\n",
    "              category_index,\n",
    "              use_normalized_coordinates=True,\n",
    "              line_thickness=8)\n",
    "        \n",
    "\n",
    "  \n",
    "        #IMAGE_SIZE = (12, 8)\n",
    "        cv2.imshow('live_detection',image_np)\n",
    "        #image_np = cv2.cvtColor(image_np, cv2.COLOR_BGR2RGB)\n",
    "        \n",
    "        #print(image_np.size)\n",
    "        \n",
    "        if coords:\n",
    "            for i in range(0,len(coords)):\n",
    "                if coords[i][0]==\"person\":\n",
    "                    x1=int(coords[i][1]*width)\n",
    "                    y1=int(coords[i][2]*height)\n",
    "                    x2=int(coords[i][3]*width)\n",
    "                    y2=int(coords[i][4]*height)\n",
    "                    \n",
    "                    \n",
    "                    #plt.figure(figsize=IMAGE_SIZE)\n",
    "                    #plt.imshow(image_np)\n",
    "                    #print(x1,x2,y1,y2)\n",
    "                    person_crop = np.copy(image_np[y1:y2,x1:x2])\n",
    "                    after_blurring=blurring(person_crop)\n",
    "                    image_np[y1:y2, x1:x2] = after_blurring\n",
    "                    cv2.imshow('person',person_crop)\n",
    "                    \n",
    "                \n",
    "                if cv2.waitKey(1) & 0xFF == ord('q'):\n",
    "                    flag=True\n",
    "                    break\n",
    "        if(flag):\n",
    "            break\n",
    "\n",
    "cap.release()\n",
    "cv2.destroyAllWindows()\n",
    "\n",
    "        "
   ]
  },
  {
   "cell_type": "code",
   "execution_count": 11,
   "metadata": {},
   "outputs": [
    {
     "name": "stdout",
     "output_type": "stream",
     "text": [
      "640.0\n",
      "360.0\n"
     ]
    }
   ],
   "source": [
    "\"\"\"\n",
    "import cv2\n",
    "\n",
    "cap=cv2.VideoCapture('video1.mp4')\n",
    "\n",
    "\n",
    "print(cap.get(cv2.CAP_PROP_FRAME_WIDTH))\n",
    "print(cap.get(cv2.CAP_PROP_FRAME_HEIGHT))\n",
    "      \n",
    "if cap.isOpened():\n",
    "    while True:\n",
    "        ret,img=cap.read()\n",
    "        if ret:\n",
    "            cv2.imshow('Real',img)\n",
    "            \n",
    "        if cv2.waitKey(1) & 0xFF == ord('q'):\n",
    "            break\n",
    "\n",
    "cap.release()\n",
    "cv2.destroyAllWindows()\n",
    "\"\"\"q"
   ]
  },
  {
   "cell_type": "code",
   "execution_count": null,
   "metadata": {},
   "outputs": [],
   "source": []
  }
 ],
 "metadata": {
  "kernelspec": {
   "display_name": "Python 3",
   "language": "python",
   "name": "python3"
  },
  "language_info": {
   "codemirror_mode": {
    "name": "ipython",
    "version": 3
   },
   "file_extension": ".py",
   "mimetype": "text/x-python",
   "name": "python",
   "nbconvert_exporter": "python",
   "pygments_lexer": "ipython3",
   "version": "3.8.3"
  }
 },
 "nbformat": 4,
 "nbformat_minor": 4
}
